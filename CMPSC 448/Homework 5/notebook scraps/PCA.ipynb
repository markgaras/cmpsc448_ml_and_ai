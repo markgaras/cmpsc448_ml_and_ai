{
 "cells": [
  {
   "cell_type": "code",
   "execution_count": null,
   "metadata": {},
   "outputs": [],
   "source": [
    "from sklearn.datasets import load_iris\n",
    "from sklearn import preprocessing\n",
    "from sklearn.decomposition import PCA\n",
    "from matplotlib import pyplot as plt\n",
    "from sklearn.cluster import KMeans\n",
    "iris = load_iris()\n",
    "X = iris.data\n",
    "y = iris.target\n",
    "\n",
    "for i in range(1,5):\n",
    "    pca=PCA(n_components)\n",
    "    pca.fit(X)\n",
    "    print(\"K =\",i)\n",
    "    print(\"Variance explained =\"pca.explained_variance_)\n",
    "    print(\"Variance explained (Percentage) =\",pca.explained_variance_ratio_)"
   ]
  },
  {
   "cell_type": "code",
   "execution_count": null,
   "metadata": {},
   "outputs": [],
   "source": [
    "std_scale = preprocessing.StandardScaler().fit(X)\n",
    "X_std = std_scale.transform(X)\n",
    "\n",
    "for i in range(1,5):\n",
    "    pca=PCA(n_components=i)\n",
    "    pca.fit(X_std)\n",
    "    print(\"k=\",i)\n",
    "    print(\"variance explained:\",pca.explained_variance_)\n",
    "    print(\"percent variance explained:\",pca.explained_variance_ratio_)"
   ]
  },
  {
   "cell_type": "code",
   "execution_count": null,
   "metadata": {},
   "outputs": [],
   "source": [
    "pca =PCA(n_components=2)\n",
    "pca.fit(X_std)\n",
    "new_X=pca.fit_transform(X_std)\n",
    "\n",
    "plt.scatter(new_X[:,0],new_X[:,1], c=iris.target)\n",
    "plt.xlabel(\"x1\")\n",
    "plt.ylabel(\"x2\")\n",
    "plt.title(\"Scatter Plot of 2D subspace of Iris Data\")\n",
    "plt.show()"
   ]
  },
  {
   "cell_type": "code",
   "execution_count": null,
   "metadata": {},
   "outputs": [],
   "source": [
    "km=KMeans(n_clusters=3,init=\"k-means++\")\n",
    "km.fit(new_X)\n",
    "plt.scatter(new_X[:,0],new_X[:,1], c=km.labels_)\n",
    "plt.xlabel(\"x1\")\n",
    "plt.ylabel(\"x2\")\n",
    "plt.title(\"Scatter Plot of 2D subspace of Iris Data using k-means++\")\n",
    "plt.show()"
   ]
  }
 ],
 "metadata": {
  "language_info": {
   "name": "python"
  },
  "orig_nbformat": 4
 },
 "nbformat": 4,
 "nbformat_minor": 2
}
